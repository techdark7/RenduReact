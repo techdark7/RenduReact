{
 "cells": [
  {
   "cell_type": "code",
   "execution_count": 114,
   "metadata": {},
   "outputs": [],
   "source": [
    "import pandas as pd\n",
    "import requests\n",
    "from datetime import date,datetime\n",
    "import matplotlib.pyplot as plt\n",
    "import matplotlib.ticker as ticker\n",
    "import matplotlib.dates as mdates\n",
    "import numpy as np"
   ]
  },
  {
   "cell_type": "code",
   "execution_count": 7,
   "metadata": {
    "collapsed": true,
    "jupyter": {
     "outputs_hidden": true
    }
   },
   "outputs": [
    {
     "data": {
      "text/html": [
       "<div>\n",
       "<style scoped>\n",
       "    .dataframe tbody tr th:only-of-type {\n",
       "        vertical-align: middle;\n",
       "    }\n",
       "\n",
       "    .dataframe tbody tr th {\n",
       "        vertical-align: top;\n",
       "    }\n",
       "\n",
       "    .dataframe thead th {\n",
       "        text-align: right;\n",
       "    }\n",
       "</style>\n",
       "<table border=\"1\" class=\"dataframe\">\n",
       "  <thead>\n",
       "    <tr style=\"text-align: right;\">\n",
       "      <th></th>\n",
       "      <th>title</th>\n",
       "      <th>year</th>\n",
       "      <th>duration</th>\n",
       "    </tr>\n",
       "    <tr>\n",
       "      <th>id</th>\n",
       "      <th></th>\n",
       "      <th></th>\n",
       "      <th></th>\n",
       "    </tr>\n",
       "  </thead>\n",
       "  <tbody>\n",
       "    <tr>\n",
       "      <th>5257</th>\n",
       "      <td>Excuse Me</td>\n",
       "      <td>1915</td>\n",
       "      <td>50.0</td>\n",
       "    </tr>\n",
       "    <tr>\n",
       "      <th>6366</th>\n",
       "      <td>Anton the Terrible</td>\n",
       "      <td>1916</td>\n",
       "      <td>50.0</td>\n",
       "    </tr>\n",
       "    <tr>\n",
       "      <th>8351</th>\n",
       "      <td>The Mysterious Mrs. Musslewhite</td>\n",
       "      <td>1917</td>\n",
       "      <td>50.0</td>\n",
       "    </tr>\n",
       "    <tr>\n",
       "      <th>8384</th>\n",
       "      <td>On the Level</td>\n",
       "      <td>1917</td>\n",
       "      <td>50.0</td>\n",
       "    </tr>\n",
       "    <tr>\n",
       "      <th>8642</th>\n",
       "      <td>The Sunset Trail</td>\n",
       "      <td>1917</td>\n",
       "      <td>50.0</td>\n",
       "    </tr>\n",
       "    <tr>\n",
       "      <th>...</th>\n",
       "      <td>...</td>\n",
       "      <td>...</td>\n",
       "      <td>...</td>\n",
       "    </tr>\n",
       "    <tr>\n",
       "      <th>11744604</th>\n",
       "      <td>Guardians of Life</td>\n",
       "      <td>2020</td>\n",
       "      <td>3.0</td>\n",
       "    </tr>\n",
       "    <tr>\n",
       "      <th>11833768</th>\n",
       "      <td>Neil Cicierega: Wow Wow (Audio)</td>\n",
       "      <td>2017</td>\n",
       "      <td>3.0</td>\n",
       "    </tr>\n",
       "    <tr>\n",
       "      <th>11885402</th>\n",
       "      <td>Dan Aykroyd and Tom Hanks: City of Crime</td>\n",
       "      <td>1987</td>\n",
       "      <td>NaN</td>\n",
       "    </tr>\n",
       "    <tr>\n",
       "      <th>11911992</th>\n",
       "      <td>Bleu de Chanel: The Film</td>\n",
       "      <td>2018</td>\n",
       "      <td>1.0</td>\n",
       "    </tr>\n",
       "    <tr>\n",
       "      <th>12771922</th>\n",
       "      <td>Neil Cicierega: Vivid Memories Turn to Fantasi...</td>\n",
       "      <td>2014</td>\n",
       "      <td>3.0</td>\n",
       "    </tr>\n",
       "  </tbody>\n",
       "</table>\n",
       "<p>1441 rows × 3 columns</p>\n",
       "</div>"
      ],
      "text/plain": [
       "                                                      title  year  duration\n",
       "id                                                                         \n",
       "5257                                              Excuse Me  1915      50.0\n",
       "6366                                     Anton the Terrible  1916      50.0\n",
       "8351                        The Mysterious Mrs. Musslewhite  1917      50.0\n",
       "8384                                           On the Level  1917      50.0\n",
       "8642                                       The Sunset Trail  1917      50.0\n",
       "...                                                     ...   ...       ...\n",
       "11744604                                  Guardians of Life  2020       3.0\n",
       "11833768                    Neil Cicierega: Wow Wow (Audio)  2017       3.0\n",
       "11885402           Dan Aykroyd and Tom Hanks: City of Crime  1987       NaN\n",
       "11911992                           Bleu de Chanel: The Film  2018       1.0\n",
       "12771922  Neil Cicierega: Vivid Memories Turn to Fantasi...  2014       3.0\n",
       "\n",
       "[1441 rows x 3 columns]"
      ]
     },
     "execution_count": 7,
     "metadata": {},
     "output_type": "execute_result"
    }
   ],
   "source": [
    "limit = 1500\n",
    "dfMovies = pd.read_json(f'http://localhost:8000/movies?limit={limit}')\n",
    "dfMovies.set_index('id', inplace=True)\n",
    "dfMovies"
   ]
  },
  {
   "cell_type": "code",
   "execution_count": 36,
   "metadata": {},
   "outputs": [
    {
     "data": {
      "text/plain": [
       "pandas.core.frame.DataFrame"
      ]
     },
     "execution_count": 36,
     "metadata": {},
     "output_type": "execute_result"
    }
   ],
   "source": [
    "type(dfMovies)"
   ]
  },
  {
   "cell_type": "code",
   "execution_count": 12,
   "metadata": {
    "collapsed": true,
    "jupyter": {
     "outputs_hidden": true
    }
   },
   "outputs": [
    {
     "data": {
      "text/html": [
       "<div>\n",
       "<style scoped>\n",
       "    .dataframe tbody tr th:only-of-type {\n",
       "        vertical-align: middle;\n",
       "    }\n",
       "\n",
       "    .dataframe tbody tr th {\n",
       "        vertical-align: top;\n",
       "    }\n",
       "\n",
       "    .dataframe thead th {\n",
       "        text-align: right;\n",
       "    }\n",
       "</style>\n",
       "<table border=\"1\" class=\"dataframe\">\n",
       "  <thead>\n",
       "    <tr style=\"text-align: right;\">\n",
       "      <th></th>\n",
       "      <th>0</th>\n",
       "      <th>1</th>\n",
       "      <th>2</th>\n",
       "      <th>3</th>\n",
       "    </tr>\n",
       "  </thead>\n",
       "  <tbody>\n",
       "    <tr>\n",
       "      <th>0</th>\n",
       "      <td>1915</td>\n",
       "      <td>50</td>\n",
       "      <td>50</td>\n",
       "      <td>50.0000</td>\n",
       "    </tr>\n",
       "    <tr>\n",
       "      <th>1</th>\n",
       "      <td>1916</td>\n",
       "      <td>50</td>\n",
       "      <td>50</td>\n",
       "      <td>50.0000</td>\n",
       "    </tr>\n",
       "    <tr>\n",
       "      <th>2</th>\n",
       "      <td>1917</td>\n",
       "      <td>50</td>\n",
       "      <td>50</td>\n",
       "      <td>50.0000</td>\n",
       "    </tr>\n",
       "    <tr>\n",
       "      <th>3</th>\n",
       "      <td>1918</td>\n",
       "      <td>50</td>\n",
       "      <td>60</td>\n",
       "      <td>51.0000</td>\n",
       "    </tr>\n",
       "    <tr>\n",
       "      <th>4</th>\n",
       "      <td>1919</td>\n",
       "      <td>50</td>\n",
       "      <td>57</td>\n",
       "      <td>50.7000</td>\n",
       "    </tr>\n",
       "    <tr>\n",
       "      <th>...</th>\n",
       "      <td>...</td>\n",
       "      <td>...</td>\n",
       "      <td>...</td>\n",
       "      <td>...</td>\n",
       "    </tr>\n",
       "    <tr>\n",
       "      <th>101</th>\n",
       "      <td>2016</td>\n",
       "      <td>3</td>\n",
       "      <td>161</td>\n",
       "      <td>97.6667</td>\n",
       "    </tr>\n",
       "    <tr>\n",
       "      <th>102</th>\n",
       "      <td>2017</td>\n",
       "      <td>3</td>\n",
       "      <td>164</td>\n",
       "      <td>95.8636</td>\n",
       "    </tr>\n",
       "    <tr>\n",
       "      <th>103</th>\n",
       "      <td>2018</td>\n",
       "      <td>1</td>\n",
       "      <td>149</td>\n",
       "      <td>98.4000</td>\n",
       "    </tr>\n",
       "    <tr>\n",
       "      <th>104</th>\n",
       "      <td>2019</td>\n",
       "      <td>2</td>\n",
       "      <td>209</td>\n",
       "      <td>104.3333</td>\n",
       "    </tr>\n",
       "    <tr>\n",
       "      <th>105</th>\n",
       "      <td>2020</td>\n",
       "      <td>3</td>\n",
       "      <td>124</td>\n",
       "      <td>72.3333</td>\n",
       "    </tr>\n",
       "  </tbody>\n",
       "</table>\n",
       "<p>106 rows × 4 columns</p>\n",
       "</div>"
      ],
      "text/plain": [
       "        0   1    2         3\n",
       "0    1915  50   50   50.0000\n",
       "1    1916  50   50   50.0000\n",
       "2    1917  50   50   50.0000\n",
       "3    1918  50   60   51.0000\n",
       "4    1919  50   57   50.7000\n",
       "..    ...  ..  ...       ...\n",
       "101  2016   3  161   97.6667\n",
       "102  2017   3  164   95.8636\n",
       "103  2018   1  149   98.4000\n",
       "104  2019   2  209  104.3333\n",
       "105  2020   3  124   72.3333\n",
       "\n",
       "[106 rows x 4 columns]"
      ]
     },
     "execution_count": 12,
     "metadata": {},
     "output_type": "execute_result"
    }
   ],
   "source": [
    "dfStatsMoviesByYear = pd.read_json('http://localhost:8000/movies/stats_by_year')\n",
    "dfStatsMoviesByYear"
   ]
  },
  {
   "cell_type": "code",
   "execution_count": 13,
   "metadata": {
    "collapsed": true,
    "jupyter": {
     "outputs_hidden": true
    }
   },
   "outputs": [
    {
     "data": {
      "text/html": [
       "<div>\n",
       "<style scoped>\n",
       "    .dataframe tbody tr th:only-of-type {\n",
       "        vertical-align: middle;\n",
       "    }\n",
       "\n",
       "    .dataframe tbody tr th {\n",
       "        vertical-align: top;\n",
       "    }\n",
       "\n",
       "    .dataframe thead th {\n",
       "        text-align: right;\n",
       "    }\n",
       "</style>\n",
       "<table border=\"1\" class=\"dataframe\">\n",
       "  <thead>\n",
       "    <tr style=\"text-align: right;\">\n",
       "      <th></th>\n",
       "      <th>0</th>\n",
       "      <th>1</th>\n",
       "    </tr>\n",
       "  </thead>\n",
       "  <tbody>\n",
       "    <tr>\n",
       "      <th>0</th>\n",
       "      <td>{'name': 'Alfred Hitchcock', 'birthdate': '189...</td>\n",
       "      <td>60</td>\n",
       "    </tr>\n",
       "    <tr>\n",
       "      <th>1</th>\n",
       "      <td>{'name': 'Martin Scorsese', 'birthdate': '1942...</td>\n",
       "      <td>48</td>\n",
       "    </tr>\n",
       "    <tr>\n",
       "      <th>2</th>\n",
       "      <td>{'name': 'Steven Spielberg', 'birthdate': '194...</td>\n",
       "      <td>41</td>\n",
       "    </tr>\n",
       "    <tr>\n",
       "      <th>3</th>\n",
       "      <td>{'name': 'Clint Eastwood', 'birthdate': '1930-...</td>\n",
       "      <td>39</td>\n",
       "    </tr>\n",
       "    <tr>\n",
       "      <th>4</th>\n",
       "      <td>{'name': 'Brian De Palma', 'birthdate': '1940-...</td>\n",
       "      <td>38</td>\n",
       "    </tr>\n",
       "    <tr>\n",
       "      <th>5</th>\n",
       "      <td>{'name': 'Ridley Scott', 'birthdate': '1937-11...</td>\n",
       "      <td>35</td>\n",
       "    </tr>\n",
       "    <tr>\n",
       "      <th>6</th>\n",
       "      <td>{'name': 'John Woo', 'birthdate': '1946-09-22'...</td>\n",
       "      <td>34</td>\n",
       "    </tr>\n",
       "    <tr>\n",
       "      <th>7</th>\n",
       "      <td>{'name': 'Steve McQueen', 'birthdate': '1969-1...</td>\n",
       "      <td>31</td>\n",
       "    </tr>\n",
       "    <tr>\n",
       "      <th>8</th>\n",
       "      <td>{'name': 'Sam Raimi', 'birthdate': '1959-10-23...</td>\n",
       "      <td>31</td>\n",
       "    </tr>\n",
       "    <tr>\n",
       "      <th>9</th>\n",
       "      <td>{'name': 'John Ford', 'birthdate': None, 'id':...</td>\n",
       "      <td>20</td>\n",
       "    </tr>\n",
       "    <tr>\n",
       "      <th>10</th>\n",
       "      <td>{'name': 'Peter Jackson', 'birthdate': '1961-1...</td>\n",
       "      <td>19</td>\n",
       "    </tr>\n",
       "    <tr>\n",
       "      <th>11</th>\n",
       "      <td>{'name': 'Danny Boyle', 'birthdate': '1956-10-...</td>\n",
       "      <td>18</td>\n",
       "    </tr>\n",
       "    <tr>\n",
       "      <th>12</th>\n",
       "      <td>{'name': 'Walter Edwards', 'birthdate': None, ...</td>\n",
       "      <td>14</td>\n",
       "    </tr>\n",
       "    <tr>\n",
       "      <th>13</th>\n",
       "      <td>{'name': 'James Cameron', 'birthdate': '1954-0...</td>\n",
       "      <td>14</td>\n",
       "    </tr>\n",
       "    <tr>\n",
       "      <th>14</th>\n",
       "      <td>{'name': 'Quentin Tarantino', 'birthdate': '19...</td>\n",
       "      <td>14</td>\n",
       "    </tr>\n",
       "    <tr>\n",
       "      <th>15</th>\n",
       "      <td>{'name': 'Christopher Nolan', 'birthdate': '19...</td>\n",
       "      <td>13</td>\n",
       "    </tr>\n",
       "    <tr>\n",
       "      <th>16</th>\n",
       "      <td>{'name': 'Robert N. Bradbury', 'birthdate': No...</td>\n",
       "      <td>13</td>\n",
       "    </tr>\n",
       "    <tr>\n",
       "      <th>17</th>\n",
       "      <td>{'name': 'Bong Joon Ho', 'birthdate': '1969-09...</td>\n",
       "      <td>12</td>\n",
       "    </tr>\n",
       "    <tr>\n",
       "      <th>18</th>\n",
       "      <td>{'name': 'Ethan Coen', 'birthdate': '1957-09-2...</td>\n",
       "      <td>12</td>\n",
       "    </tr>\n",
       "    <tr>\n",
       "      <th>19</th>\n",
       "      <td>{'name': 'Joel Coen', 'birthdate': '1954-11-29...</td>\n",
       "      <td>11</td>\n",
       "    </tr>\n",
       "  </tbody>\n",
       "</table>\n",
       "</div>"
      ],
      "text/plain": [
       "                                                    0   1\n",
       "0   {'name': 'Alfred Hitchcock', 'birthdate': '189...  60\n",
       "1   {'name': 'Martin Scorsese', 'birthdate': '1942...  48\n",
       "2   {'name': 'Steven Spielberg', 'birthdate': '194...  41\n",
       "3   {'name': 'Clint Eastwood', 'birthdate': '1930-...  39\n",
       "4   {'name': 'Brian De Palma', 'birthdate': '1940-...  38\n",
       "5   {'name': 'Ridley Scott', 'birthdate': '1937-11...  35\n",
       "6   {'name': 'John Woo', 'birthdate': '1946-09-22'...  34\n",
       "7   {'name': 'Steve McQueen', 'birthdate': '1969-1...  31\n",
       "8   {'name': 'Sam Raimi', 'birthdate': '1959-10-23...  31\n",
       "9   {'name': 'John Ford', 'birthdate': None, 'id':...  20\n",
       "10  {'name': 'Peter Jackson', 'birthdate': '1961-1...  19\n",
       "11  {'name': 'Danny Boyle', 'birthdate': '1956-10-...  18\n",
       "12  {'name': 'Walter Edwards', 'birthdate': None, ...  14\n",
       "13  {'name': 'James Cameron', 'birthdate': '1954-0...  14\n",
       "14  {'name': 'Quentin Tarantino', 'birthdate': '19...  14\n",
       "15  {'name': 'Christopher Nolan', 'birthdate': '19...  13\n",
       "16  {'name': 'Robert N. Bradbury', 'birthdate': No...  13\n",
       "17  {'name': 'Bong Joon Ho', 'birthdate': '1969-09...  12\n",
       "18  {'name': 'Ethan Coen', 'birthdate': '1957-09-2...  12\n",
       "19  {'name': 'Joel Coen', 'birthdate': '1954-11-29...  11"
      ]
     },
     "execution_count": 13,
     "metadata": {},
     "output_type": "execute_result"
    }
   ],
   "source": [
    "dfStatsMovieByDirector = pd.read_json('http://localhost:8000/stars/stats_movie_by_director')\n",
    "dfStatsMovieByDirector"
   ]
  },
  {
   "cell_type": "code",
   "execution_count": 33,
   "metadata": {},
   "outputs": [
    {
     "data": {
      "text/plain": [
       "<Response [200]>"
      ]
     },
     "execution_count": 33,
     "metadata": {},
     "output_type": "execute_result"
    }
   ],
   "source": [
    "response  = requests.get('http://localhost:8000/stars/stats_movie_by_director')\n",
    "response"
   ]
  },
  {
   "cell_type": "code",
   "execution_count": 34,
   "metadata": {},
   "outputs": [
    {
     "name": "stdout",
     "output_type": "stream",
     "text": [
      "Response OK\n"
     ]
    }
   ],
   "source": [
    "if response.status_code == 200:\n",
    "    print('Response OK')\n",
    "else:\n",
    "    print('Error',response.status_code,response.json(), sep=', ')"
   ]
  },
  {
   "cell_type": "code",
   "execution_count": 35,
   "metadata": {
    "collapsed": true,
    "jupyter": {
     "outputs_hidden": true
    }
   },
   "outputs": [
    {
     "data": {
      "text/plain": [
       "[[{'name': 'Alfred Hitchcock', 'birthdate': '1899-08-13', 'id': 33}, 60],\n",
       " [{'name': 'Martin Scorsese', 'birthdate': '1942-11-17', 'id': 217}, 48],\n",
       " [{'name': 'Steven Spielberg', 'birthdate': '1946-12-18', 'id': 229}, 41],\n",
       " [{'name': 'Clint Eastwood', 'birthdate': '1930-05-31', 'id': 142}, 39],\n",
       " [{'name': 'Brian De Palma', 'birthdate': '1940-09-11', 'id': 361}, 38],\n",
       " [{'name': 'Ridley Scott', 'birthdate': '1937-11-30', 'id': 631}, 35],\n",
       " [{'name': 'John Woo', 'birthdate': '1946-09-22', 'id': 247}, 34],\n",
       " [{'name': 'Steve McQueen', 'birthdate': '1969-10-09', 'id': 2588606}, 31],\n",
       " [{'name': 'Sam Raimi', 'birthdate': '1959-10-23', 'id': 600}, 31],\n",
       " [{'name': 'John Ford', 'birthdate': None, 'id': 406}, 20],\n",
       " [{'name': 'Peter Jackson', 'birthdate': '1961-10-31', 'id': 1392}, 19],\n",
       " [{'name': 'Danny Boyle', 'birthdate': '1956-10-20', 'id': 965}, 18],\n",
       " [{'name': 'Walter Edwards', 'birthdate': None, 'id': 250445}, 14],\n",
       " [{'name': 'James Cameron', 'birthdate': '1954-08-16', 'id': 116}, 14],\n",
       " [{'name': 'Quentin Tarantino', 'birthdate': '1963-03-27', 'id': 233}, 14],\n",
       " [{'name': 'Christopher Nolan', 'birthdate': '1970-07-30', 'id': 634240}, 13],\n",
       " [{'name': 'Robert N. Bradbury', 'birthdate': None, 'id': 102908}, 13],\n",
       " [{'name': 'Bong Joon Ho', 'birthdate': '1969-09-14', 'id': 94435}, 12],\n",
       " [{'name': 'Ethan Coen', 'birthdate': '1957-09-21', 'id': 1053}, 12],\n",
       " [{'name': 'Joel Coen', 'birthdate': '1954-11-29', 'id': 1054}, 11]]"
      ]
     },
     "execution_count": 35,
     "metadata": {},
     "output_type": "execute_result"
    }
   ],
   "source": [
    "data_json = response.json()\n",
    "data_json"
   ]
  },
  {
   "cell_type": "code",
   "execution_count": 39,
   "metadata": {},
   "outputs": [
    {
     "data": {
      "text/plain": [
       "[[33, 'Alfred Hitchcock', '1899-08-13', 60],\n",
       " [217, 'Martin Scorsese', '1942-11-17', 48],\n",
       " [229, 'Steven Spielberg', '1946-12-18', 41],\n",
       " [142, 'Clint Eastwood', '1930-05-31', 39],\n",
       " [361, 'Brian De Palma', '1940-09-11', 38],\n",
       " [631, 'Ridley Scott', '1937-11-30', 35],\n",
       " [247, 'John Woo', '1946-09-22', 34],\n",
       " [2588606, 'Steve McQueen', '1969-10-09', 31],\n",
       " [600, 'Sam Raimi', '1959-10-23', 31],\n",
       " [406, 'John Ford', None, 20],\n",
       " [1392, 'Peter Jackson', '1961-10-31', 19],\n",
       " [965, 'Danny Boyle', '1956-10-20', 18],\n",
       " [250445, 'Walter Edwards', None, 14],\n",
       " [116, 'James Cameron', '1954-08-16', 14],\n",
       " [233, 'Quentin Tarantino', '1963-03-27', 14],\n",
       " [634240, 'Christopher Nolan', '1970-07-30', 13],\n",
       " [102908, 'Robert N. Bradbury', None, 13],\n",
       " [94435, 'Bong Joon Ho', '1969-09-14', 12],\n",
       " [1053, 'Ethan Coen', '1957-09-21', 12],\n",
       " [1054, 'Joel Coen', '1954-11-29', 11]]"
      ]
     },
     "execution_count": 39,
     "metadata": {},
     "output_type": "execute_result"
    }
   ],
   "source": [
    "data_flatten = [ [director_dict['id'],director_dict['name'],director_dict['birthdate'],movie_count] for director_dict, movie_count in data_json]\n",
    "data_flatten"
   ]
  },
  {
   "cell_type": "code",
   "execution_count": 45,
   "metadata": {
    "collapsed": true,
    "jupyter": {
     "outputs_hidden": true
    }
   },
   "outputs": [
    {
     "data": {
      "text/plain": [
       "[{'name': 'Alfred Hitchcock',\n",
       "  'birthdate': '1899-08-13',\n",
       "  'id': 33,\n",
       "  'movie_count': 60},\n",
       " {'name': 'Martin Scorsese',\n",
       "  'birthdate': '1942-11-17',\n",
       "  'id': 217,\n",
       "  'movie_count': 48},\n",
       " {'name': 'Steven Spielberg',\n",
       "  'birthdate': '1946-12-18',\n",
       "  'id': 229,\n",
       "  'movie_count': 41},\n",
       " {'name': 'Clint Eastwood',\n",
       "  'birthdate': '1930-05-31',\n",
       "  'id': 142,\n",
       "  'movie_count': 39},\n",
       " {'name': 'Brian De Palma',\n",
       "  'birthdate': '1940-09-11',\n",
       "  'id': 361,\n",
       "  'movie_count': 38},\n",
       " {'name': 'Ridley Scott',\n",
       "  'birthdate': '1937-11-30',\n",
       "  'id': 631,\n",
       "  'movie_count': 35},\n",
       " {'name': 'John Woo', 'birthdate': '1946-09-22', 'id': 247, 'movie_count': 34},\n",
       " {'name': 'Steve McQueen',\n",
       "  'birthdate': '1969-10-09',\n",
       "  'id': 2588606,\n",
       "  'movie_count': 31},\n",
       " {'name': 'Sam Raimi',\n",
       "  'birthdate': '1959-10-23',\n",
       "  'id': 600,\n",
       "  'movie_count': 31},\n",
       " {'name': 'John Ford', 'birthdate': None, 'id': 406, 'movie_count': 20},\n",
       " {'name': 'Peter Jackson',\n",
       "  'birthdate': '1961-10-31',\n",
       "  'id': 1392,\n",
       "  'movie_count': 19},\n",
       " {'name': 'Danny Boyle',\n",
       "  'birthdate': '1956-10-20',\n",
       "  'id': 965,\n",
       "  'movie_count': 18},\n",
       " {'name': 'Walter Edwards',\n",
       "  'birthdate': None,\n",
       "  'id': 250445,\n",
       "  'movie_count': 14},\n",
       " {'name': 'James Cameron',\n",
       "  'birthdate': '1954-08-16',\n",
       "  'id': 116,\n",
       "  'movie_count': 14},\n",
       " {'name': 'Quentin Tarantino',\n",
       "  'birthdate': '1963-03-27',\n",
       "  'id': 233,\n",
       "  'movie_count': 14},\n",
       " {'name': 'Christopher Nolan',\n",
       "  'birthdate': '1970-07-30',\n",
       "  'id': 634240,\n",
       "  'movie_count': 13},\n",
       " {'name': 'Robert N. Bradbury',\n",
       "  'birthdate': None,\n",
       "  'id': 102908,\n",
       "  'movie_count': 13},\n",
       " {'name': 'Bong Joon Ho',\n",
       "  'birthdate': '1969-09-14',\n",
       "  'id': 94435,\n",
       "  'movie_count': 12},\n",
       " {'name': 'Ethan Coen',\n",
       "  'birthdate': '1957-09-21',\n",
       "  'id': 1053,\n",
       "  'movie_count': 12},\n",
       " {'name': 'Joel Coen',\n",
       "  'birthdate': '1954-11-29',\n",
       "  'id': 1054,\n",
       "  'movie_count': 11}]"
      ]
     },
     "execution_count": 45,
     "metadata": {},
     "output_type": "execute_result"
    }
   ],
   "source": [
    "data_flatten = [ {**director_dict, 'movie_count':movie_count} for director_dict, movie_count in data_json]\n",
    "data_flatten"
   ]
  },
  {
   "cell_type": "code",
   "execution_count": 46,
   "metadata": {
    "collapsed": true,
    "jupyter": {
     "outputs_hidden": true
    }
   },
   "outputs": [
    {
     "data": {
      "text/html": [
       "<div>\n",
       "<style scoped>\n",
       "    .dataframe tbody tr th:only-of-type {\n",
       "        vertical-align: middle;\n",
       "    }\n",
       "\n",
       "    .dataframe tbody tr th {\n",
       "        vertical-align: top;\n",
       "    }\n",
       "\n",
       "    .dataframe thead th {\n",
       "        text-align: right;\n",
       "    }\n",
       "</style>\n",
       "<table border=\"1\" class=\"dataframe\">\n",
       "  <thead>\n",
       "    <tr style=\"text-align: right;\">\n",
       "      <th></th>\n",
       "      <th>name</th>\n",
       "      <th>birthdate</th>\n",
       "      <th>movie_count</th>\n",
       "    </tr>\n",
       "    <tr>\n",
       "      <th>id</th>\n",
       "      <th></th>\n",
       "      <th></th>\n",
       "      <th></th>\n",
       "    </tr>\n",
       "  </thead>\n",
       "  <tbody>\n",
       "    <tr>\n",
       "      <th>33</th>\n",
       "      <td>Alfred Hitchcock</td>\n",
       "      <td>1899-08-13</td>\n",
       "      <td>60</td>\n",
       "    </tr>\n",
       "    <tr>\n",
       "      <th>217</th>\n",
       "      <td>Martin Scorsese</td>\n",
       "      <td>1942-11-17</td>\n",
       "      <td>48</td>\n",
       "    </tr>\n",
       "    <tr>\n",
       "      <th>229</th>\n",
       "      <td>Steven Spielberg</td>\n",
       "      <td>1946-12-18</td>\n",
       "      <td>41</td>\n",
       "    </tr>\n",
       "    <tr>\n",
       "      <th>142</th>\n",
       "      <td>Clint Eastwood</td>\n",
       "      <td>1930-05-31</td>\n",
       "      <td>39</td>\n",
       "    </tr>\n",
       "    <tr>\n",
       "      <th>361</th>\n",
       "      <td>Brian De Palma</td>\n",
       "      <td>1940-09-11</td>\n",
       "      <td>38</td>\n",
       "    </tr>\n",
       "    <tr>\n",
       "      <th>631</th>\n",
       "      <td>Ridley Scott</td>\n",
       "      <td>1937-11-30</td>\n",
       "      <td>35</td>\n",
       "    </tr>\n",
       "    <tr>\n",
       "      <th>247</th>\n",
       "      <td>John Woo</td>\n",
       "      <td>1946-09-22</td>\n",
       "      <td>34</td>\n",
       "    </tr>\n",
       "    <tr>\n",
       "      <th>2588606</th>\n",
       "      <td>Steve McQueen</td>\n",
       "      <td>1969-10-09</td>\n",
       "      <td>31</td>\n",
       "    </tr>\n",
       "    <tr>\n",
       "      <th>600</th>\n",
       "      <td>Sam Raimi</td>\n",
       "      <td>1959-10-23</td>\n",
       "      <td>31</td>\n",
       "    </tr>\n",
       "    <tr>\n",
       "      <th>406</th>\n",
       "      <td>John Ford</td>\n",
       "      <td>None</td>\n",
       "      <td>20</td>\n",
       "    </tr>\n",
       "    <tr>\n",
       "      <th>1392</th>\n",
       "      <td>Peter Jackson</td>\n",
       "      <td>1961-10-31</td>\n",
       "      <td>19</td>\n",
       "    </tr>\n",
       "    <tr>\n",
       "      <th>965</th>\n",
       "      <td>Danny Boyle</td>\n",
       "      <td>1956-10-20</td>\n",
       "      <td>18</td>\n",
       "    </tr>\n",
       "    <tr>\n",
       "      <th>250445</th>\n",
       "      <td>Walter Edwards</td>\n",
       "      <td>None</td>\n",
       "      <td>14</td>\n",
       "    </tr>\n",
       "    <tr>\n",
       "      <th>116</th>\n",
       "      <td>James Cameron</td>\n",
       "      <td>1954-08-16</td>\n",
       "      <td>14</td>\n",
       "    </tr>\n",
       "    <tr>\n",
       "      <th>233</th>\n",
       "      <td>Quentin Tarantino</td>\n",
       "      <td>1963-03-27</td>\n",
       "      <td>14</td>\n",
       "    </tr>\n",
       "    <tr>\n",
       "      <th>634240</th>\n",
       "      <td>Christopher Nolan</td>\n",
       "      <td>1970-07-30</td>\n",
       "      <td>13</td>\n",
       "    </tr>\n",
       "    <tr>\n",
       "      <th>102908</th>\n",
       "      <td>Robert N. Bradbury</td>\n",
       "      <td>None</td>\n",
       "      <td>13</td>\n",
       "    </tr>\n",
       "    <tr>\n",
       "      <th>94435</th>\n",
       "      <td>Bong Joon Ho</td>\n",
       "      <td>1969-09-14</td>\n",
       "      <td>12</td>\n",
       "    </tr>\n",
       "    <tr>\n",
       "      <th>1053</th>\n",
       "      <td>Ethan Coen</td>\n",
       "      <td>1957-09-21</td>\n",
       "      <td>12</td>\n",
       "    </tr>\n",
       "    <tr>\n",
       "      <th>1054</th>\n",
       "      <td>Joel Coen</td>\n",
       "      <td>1954-11-29</td>\n",
       "      <td>11</td>\n",
       "    </tr>\n",
       "  </tbody>\n",
       "</table>\n",
       "</div>"
      ],
      "text/plain": [
       "                       name   birthdate  movie_count\n",
       "id                                                  \n",
       "33         Alfred Hitchcock  1899-08-13           60\n",
       "217         Martin Scorsese  1942-11-17           48\n",
       "229        Steven Spielberg  1946-12-18           41\n",
       "142          Clint Eastwood  1930-05-31           39\n",
       "361          Brian De Palma  1940-09-11           38\n",
       "631            Ridley Scott  1937-11-30           35\n",
       "247                John Woo  1946-09-22           34\n",
       "2588606       Steve McQueen  1969-10-09           31\n",
       "600               Sam Raimi  1959-10-23           31\n",
       "406               John Ford        None           20\n",
       "1392          Peter Jackson  1961-10-31           19\n",
       "965             Danny Boyle  1956-10-20           18\n",
       "250445       Walter Edwards        None           14\n",
       "116           James Cameron  1954-08-16           14\n",
       "233       Quentin Tarantino  1963-03-27           14\n",
       "634240    Christopher Nolan  1970-07-30           13\n",
       "102908   Robert N. Bradbury        None           13\n",
       "94435          Bong Joon Ho  1969-09-14           12\n",
       "1053             Ethan Coen  1957-09-21           12\n",
       "1054              Joel Coen  1954-11-29           11"
      ]
     },
     "execution_count": 46,
     "metadata": {},
     "output_type": "execute_result"
    }
   ],
   "source": [
    "dfStatsMovieByDirector = pd.DataFrame(data_flatten)\n",
    "dfStatsMovieByDirector.set_index('id', inplace=True)\n",
    "dfStatsMovieByDirector"
   ]
  },
  {
   "cell_type": "code",
   "execution_count": 66,
   "metadata": {},
   "outputs": [
    {
     "data": {
      "text/plain": [
       "datetime.date(1899, 8, 13)"
      ]
     },
     "execution_count": 66,
     "metadata": {},
     "output_type": "execute_result"
    }
   ],
   "source": [
    "dfStatsMovieByDirector.loc[33].birthdate"
   ]
  },
  {
   "cell_type": "code",
   "execution_count": 55,
   "metadata": {},
   "outputs": [
    {
     "data": {
      "text/plain": [
       "datetime.date(1899, 8, 13)"
      ]
     },
     "execution_count": 55,
     "metadata": {},
     "output_type": "execute_result"
    }
   ],
   "source": [
    "datetime.strptime('1899-08-13', '%Y-%m-%d').date()"
   ]
  },
  {
   "cell_type": "code",
   "execution_count": 57,
   "metadata": {},
   "outputs": [
    {
     "data": {
      "text/plain": [
       "datetime.date(1899, 8, 13)"
      ]
     },
     "execution_count": 57,
     "metadata": {},
     "output_type": "execute_result"
    }
   ],
   "source": [
    "date.fromisoformat('1899-08-13')"
   ]
  },
  {
   "cell_type": "code",
   "execution_count": 63,
   "metadata": {
    "collapsed": true,
    "jupyter": {
     "outputs_hidden": true
    }
   },
   "outputs": [
    {
     "data": {
      "text/plain": [
       "id\n",
       "33         1899-08-13\n",
       "217        1942-11-17\n",
       "229        1946-12-18\n",
       "142        1930-05-31\n",
       "361        1940-09-11\n",
       "631        1937-11-30\n",
       "247        1946-09-22\n",
       "2588606    1969-10-09\n",
       "600        1959-10-23\n",
       "1392       1961-10-31\n",
       "965        1956-10-20\n",
       "116        1954-08-16\n",
       "233        1963-03-27\n",
       "634240     1970-07-30\n",
       "94435      1969-09-14\n",
       "1053       1957-09-21\n",
       "1054       1954-11-29\n",
       "Name: birthdate, dtype: object"
      ]
     },
     "execution_count": 63,
     "metadata": {},
     "output_type": "execute_result"
    }
   ],
   "source": [
    "dfStatsMovieByDirector[~dfStatsMovieByDirector.birthdate.isnull()].birthdate.apply(date.fromisoformat)"
   ]
  },
  {
   "cell_type": "code",
   "execution_count": 65,
   "metadata": {
    "collapsed": true,
    "jupyter": {
     "outputs_hidden": true
    }
   },
   "outputs": [
    {
     "data": {
      "text/html": [
       "<div>\n",
       "<style scoped>\n",
       "    .dataframe tbody tr th:only-of-type {\n",
       "        vertical-align: middle;\n",
       "    }\n",
       "\n",
       "    .dataframe tbody tr th {\n",
       "        vertical-align: top;\n",
       "    }\n",
       "\n",
       "    .dataframe thead th {\n",
       "        text-align: right;\n",
       "    }\n",
       "</style>\n",
       "<table border=\"1\" class=\"dataframe\">\n",
       "  <thead>\n",
       "    <tr style=\"text-align: right;\">\n",
       "      <th></th>\n",
       "      <th>name</th>\n",
       "      <th>birthdate</th>\n",
       "      <th>movie_count</th>\n",
       "    </tr>\n",
       "    <tr>\n",
       "      <th>id</th>\n",
       "      <th></th>\n",
       "      <th></th>\n",
       "      <th></th>\n",
       "    </tr>\n",
       "  </thead>\n",
       "  <tbody>\n",
       "    <tr>\n",
       "      <th>33</th>\n",
       "      <td>Alfred Hitchcock</td>\n",
       "      <td>1899-08-13</td>\n",
       "      <td>60</td>\n",
       "    </tr>\n",
       "    <tr>\n",
       "      <th>217</th>\n",
       "      <td>Martin Scorsese</td>\n",
       "      <td>1942-11-17</td>\n",
       "      <td>48</td>\n",
       "    </tr>\n",
       "    <tr>\n",
       "      <th>229</th>\n",
       "      <td>Steven Spielberg</td>\n",
       "      <td>1946-12-18</td>\n",
       "      <td>41</td>\n",
       "    </tr>\n",
       "    <tr>\n",
       "      <th>142</th>\n",
       "      <td>Clint Eastwood</td>\n",
       "      <td>1930-05-31</td>\n",
       "      <td>39</td>\n",
       "    </tr>\n",
       "    <tr>\n",
       "      <th>361</th>\n",
       "      <td>Brian De Palma</td>\n",
       "      <td>1940-09-11</td>\n",
       "      <td>38</td>\n",
       "    </tr>\n",
       "    <tr>\n",
       "      <th>631</th>\n",
       "      <td>Ridley Scott</td>\n",
       "      <td>1937-11-30</td>\n",
       "      <td>35</td>\n",
       "    </tr>\n",
       "    <tr>\n",
       "      <th>247</th>\n",
       "      <td>John Woo</td>\n",
       "      <td>1946-09-22</td>\n",
       "      <td>34</td>\n",
       "    </tr>\n",
       "    <tr>\n",
       "      <th>2588606</th>\n",
       "      <td>Steve McQueen</td>\n",
       "      <td>1969-10-09</td>\n",
       "      <td>31</td>\n",
       "    </tr>\n",
       "    <tr>\n",
       "      <th>600</th>\n",
       "      <td>Sam Raimi</td>\n",
       "      <td>1959-10-23</td>\n",
       "      <td>31</td>\n",
       "    </tr>\n",
       "    <tr>\n",
       "      <th>406</th>\n",
       "      <td>John Ford</td>\n",
       "      <td>None</td>\n",
       "      <td>20</td>\n",
       "    </tr>\n",
       "    <tr>\n",
       "      <th>1392</th>\n",
       "      <td>Peter Jackson</td>\n",
       "      <td>1961-10-31</td>\n",
       "      <td>19</td>\n",
       "    </tr>\n",
       "    <tr>\n",
       "      <th>965</th>\n",
       "      <td>Danny Boyle</td>\n",
       "      <td>1956-10-20</td>\n",
       "      <td>18</td>\n",
       "    </tr>\n",
       "    <tr>\n",
       "      <th>250445</th>\n",
       "      <td>Walter Edwards</td>\n",
       "      <td>None</td>\n",
       "      <td>14</td>\n",
       "    </tr>\n",
       "    <tr>\n",
       "      <th>116</th>\n",
       "      <td>James Cameron</td>\n",
       "      <td>1954-08-16</td>\n",
       "      <td>14</td>\n",
       "    </tr>\n",
       "    <tr>\n",
       "      <th>233</th>\n",
       "      <td>Quentin Tarantino</td>\n",
       "      <td>1963-03-27</td>\n",
       "      <td>14</td>\n",
       "    </tr>\n",
       "    <tr>\n",
       "      <th>634240</th>\n",
       "      <td>Christopher Nolan</td>\n",
       "      <td>1970-07-30</td>\n",
       "      <td>13</td>\n",
       "    </tr>\n",
       "    <tr>\n",
       "      <th>102908</th>\n",
       "      <td>Robert N. Bradbury</td>\n",
       "      <td>None</td>\n",
       "      <td>13</td>\n",
       "    </tr>\n",
       "    <tr>\n",
       "      <th>94435</th>\n",
       "      <td>Bong Joon Ho</td>\n",
       "      <td>1969-09-14</td>\n",
       "      <td>12</td>\n",
       "    </tr>\n",
       "    <tr>\n",
       "      <th>1053</th>\n",
       "      <td>Ethan Coen</td>\n",
       "      <td>1957-09-21</td>\n",
       "      <td>12</td>\n",
       "    </tr>\n",
       "    <tr>\n",
       "      <th>1054</th>\n",
       "      <td>Joel Coen</td>\n",
       "      <td>1954-11-29</td>\n",
       "      <td>11</td>\n",
       "    </tr>\n",
       "  </tbody>\n",
       "</table>\n",
       "</div>"
      ],
      "text/plain": [
       "                       name   birthdate  movie_count\n",
       "id                                                  \n",
       "33         Alfred Hitchcock  1899-08-13           60\n",
       "217         Martin Scorsese  1942-11-17           48\n",
       "229        Steven Spielberg  1946-12-18           41\n",
       "142          Clint Eastwood  1930-05-31           39\n",
       "361          Brian De Palma  1940-09-11           38\n",
       "631            Ridley Scott  1937-11-30           35\n",
       "247                John Woo  1946-09-22           34\n",
       "2588606       Steve McQueen  1969-10-09           31\n",
       "600               Sam Raimi  1959-10-23           31\n",
       "406               John Ford        None           20\n",
       "1392          Peter Jackson  1961-10-31           19\n",
       "965             Danny Boyle  1956-10-20           18\n",
       "250445       Walter Edwards        None           14\n",
       "116           James Cameron  1954-08-16           14\n",
       "233       Quentin Tarantino  1963-03-27           14\n",
       "634240    Christopher Nolan  1970-07-30           13\n",
       "102908   Robert N. Bradbury        None           13\n",
       "94435          Bong Joon Ho  1969-09-14           12\n",
       "1053             Ethan Coen  1957-09-21           12\n",
       "1054              Joel Coen  1954-11-29           11"
      ]
     },
     "execution_count": 65,
     "metadata": {},
     "output_type": "execute_result"
    }
   ],
   "source": [
    "dfStatsMovieByDirector.birthdate = dfStatsMovieByDirector.birthdate.apply(lambda bd: date.fromisoformat(bd) if bd is not None else None)\n",
    "dfStatsMovieByDirector"
   ]
  },
  {
   "cell_type": "code",
   "execution_count": 74,
   "metadata": {
    "collapsed": true,
    "jupyter": {
     "outputs_hidden": true
    }
   },
   "outputs": [
    {
     "data": {
      "text/html": [
       "<div>\n",
       "<style scoped>\n",
       "    .dataframe tbody tr th:only-of-type {\n",
       "        vertical-align: middle;\n",
       "    }\n",
       "\n",
       "    .dataframe tbody tr th {\n",
       "        vertical-align: top;\n",
       "    }\n",
       "\n",
       "    .dataframe thead th {\n",
       "        text-align: right;\n",
       "    }\n",
       "</style>\n",
       "<table border=\"1\" class=\"dataframe\">\n",
       "  <thead>\n",
       "    <tr style=\"text-align: right;\">\n",
       "      <th></th>\n",
       "      <th>name</th>\n",
       "      <th>birthdate</th>\n",
       "    </tr>\n",
       "    <tr>\n",
       "      <th>id</th>\n",
       "      <th></th>\n",
       "      <th></th>\n",
       "    </tr>\n",
       "  </thead>\n",
       "  <tbody>\n",
       "    <tr>\n",
       "      <th>1</th>\n",
       "      <td>Fred Astaire</td>\n",
       "      <td>1899-01-01</td>\n",
       "    </tr>\n",
       "    <tr>\n",
       "      <th>2</th>\n",
       "      <td>Lauren Bacall</td>\n",
       "      <td>1924-01-01</td>\n",
       "    </tr>\n",
       "    <tr>\n",
       "      <th>3</th>\n",
       "      <td>Brigitte Bardot</td>\n",
       "      <td>1934-01-01</td>\n",
       "    </tr>\n",
       "    <tr>\n",
       "      <th>4</th>\n",
       "      <td>John Belushi</td>\n",
       "      <td>NaT</td>\n",
       "    </tr>\n",
       "    <tr>\n",
       "      <th>6</th>\n",
       "      <td>Ingrid Bergman</td>\n",
       "      <td>1915-01-01</td>\n",
       "    </tr>\n",
       "    <tr>\n",
       "      <th>...</th>\n",
       "      <td>...</td>\n",
       "      <td>...</td>\n",
       "    </tr>\n",
       "    <tr>\n",
       "      <th>1480</th>\n",
       "      <td>Shelley Long</td>\n",
       "      <td>NaT</td>\n",
       "    </tr>\n",
       "    <tr>\n",
       "      <th>1484</th>\n",
       "      <td>Jon Lovitz</td>\n",
       "      <td>1957-01-01</td>\n",
       "    </tr>\n",
       "    <tr>\n",
       "      <th>1485</th>\n",
       "      <td>Myrna Loy</td>\n",
       "      <td>1905-01-01</td>\n",
       "    </tr>\n",
       "    <tr>\n",
       "      <th>1486</th>\n",
       "      <td>Sidney Lumet</td>\n",
       "      <td>NaT</td>\n",
       "    </tr>\n",
       "    <tr>\n",
       "      <th>1489</th>\n",
       "      <td>Paul Lynde</td>\n",
       "      <td>1926-01-01</td>\n",
       "    </tr>\n",
       "  </tbody>\n",
       "</table>\n",
       "<p>1000 rows × 2 columns</p>\n",
       "</div>"
      ],
      "text/plain": [
       "                 name  birthdate\n",
       "id                              \n",
       "1        Fred Astaire 1899-01-01\n",
       "2       Lauren Bacall 1924-01-01\n",
       "3     Brigitte Bardot 1934-01-01\n",
       "4        John Belushi        NaT\n",
       "6      Ingrid Bergman 1915-01-01\n",
       "...               ...        ...\n",
       "1480     Shelley Long        NaT\n",
       "1484       Jon Lovitz 1957-01-01\n",
       "1485        Myrna Loy 1905-01-01\n",
       "1486     Sidney Lumet        NaT\n",
       "1489       Paul Lynde 1926-01-01\n",
       "\n",
       "[1000 rows x 2 columns]"
      ]
     },
     "execution_count": 74,
     "metadata": {},
     "output_type": "execute_result"
    }
   ],
   "source": [
    "limit = 1000\n",
    "dfStars = pd.read_json(f'http://localhost:8000/stars?limit={limit}', convert_dates=['birthdate'])\n",
    "dfStars.set_index('id', inplace=True)\n",
    "dfStars"
   ]
  },
  {
   "cell_type": "markdown",
   "metadata": {},
   "source": [
    "Partie graphique\n",
    "-"
   ]
  },
  {
   "cell_type": "code",
   "execution_count": 101,
   "metadata": {
    "collapsed": true,
    "jupyter": {
     "outputs_hidden": true
    }
   },
   "outputs": [
    {
     "data": {
      "text/plain": [
       "<matplotlib.axes._subplots.AxesSubplot at 0x7f7e60472df0>"
      ]
     },
     "execution_count": 101,
     "metadata": {},
     "output_type": "execute_result"
    },
    {
     "data": {
      "image/png": "[encoded data removed]",
      "text/plain": [
       "<Figure size 432x288 with 1 Axes>"
      ]
     },
     "metadata": {
      "needs_background": "light"
     },
     "output_type": "display_data"
    }
   ],
   "source": [
    "statsToPlot = dfStatsMovieByDirector[dfStatsMovieByDirector.movie_count > 30][['name','movie_count']] \\\n",
    "    .set_index('name')\n",
    "statsToPlot.plot(kind='bar')"
   ]
  },
  {
   "cell_type": "code",
   "execution_count": 84,
   "metadata": {},
   "outputs": [],
   "source": [
    "movie_count_ndarray = dfStatsMovieByDirector.movie_count.values"
   ]
  },
  {
   "cell_type": "code",
   "execution_count": 85,
   "metadata": {},
   "outputs": [
    {
     "data": {
      "text/plain": [
       "[<matplotlib.lines.Line2D at 0x7f7e60906c70>]"
      ]
     },
     "execution_count": 85,
     "metadata": {},
     "output_type": "execute_result"
    },
    {
     "data": {
      "image/png": "[encoded data removed]",
      "text/plain": [
       "<Figure size 432x288 with 1 Axes>"
      ]
     },
     "metadata": {
      "needs_background": "light"
     },
     "output_type": "display_data"
    }
   ],
   "source": [
    "# plot, bar, piechart, ...\n",
    "plt.plot(movie_count_ndarray)"
   ]
  },
  {
   "cell_type": "code",
   "execution_count": 88,
   "metadata": {},
   "outputs": [
    {
     "data": {
      "text/plain": [
       "[<matplotlib.lines.Line2D at 0x7f7e622d12e0>]"
      ]
     },
     "execution_count": 88,
     "metadata": {},
     "output_type": "execute_result"
    },
    {
     "data": {
      "image/png": "[encoded data removed]",
      "text/plain": [
       "<Figure size 432x288 with 1 Axes>"
      ]
     },
     "metadata": {
      "needs_background": "light"
     },
     "output_type": "display_data"
    }
   ],
   "source": [
    "#fig : ensemble du dessin\n",
    "#ax : 1 tracé\n",
    "fig, ax = plt.subplots()\n",
    "ax.plot(movie_count_ndarray)"
   ]
  },
  {
   "cell_type": "code",
   "execution_count": 136,
   "metadata": {},
   "outputs": [
    {
     "data": {
      "text/plain": [
       "Text(0.5, 1.0, 'diag bar')"
      ]
     },
     "execution_count": 136,
     "metadata": {},
     "output_type": "execute_result"
    },
    {
     "data": {
      "image/png": "[encoded data removed]",
      "text/plain": [
       "<Figure size 720x360 with 2 Axes>"
      ]
     },
     "metadata": {
      "needs_background": "light"
     },
     "output_type": "display_data"
    }
   ],
   "source": [
    "fig, (ax1, ax2) = plt.subplots(1,2, figsize=(10,5))\n",
    "\n",
    "ax1.set_title('diag plot')\n",
    "ax1.set_xlabel('x')\n",
    "ax1.set_ylabel('movie count')\n",
    "ax1.plot(movie_count_ndarray)\n",
    "\n",
    "statsToPlot.plot(kind='bar',ax=ax2)\n",
    "ax2.set_title('diag bar')"
   ]
  },
  {
   "cell_type": "code",
   "execution_count": 131,
   "metadata": {},
   "outputs": [
    {
     "data": {
      "image/png": "[encoded data removed]",
      "text/plain": [
       "<Figure size 432x288 with 1 Axes>"
      ]
     },
     "metadata": {
      "needs_background": "light"
     },
     "output_type": "display_data"
    }
   ],
   "source": [
    "x = np.arange(1000)\n",
    "y = x**2+1\n",
    "fig, ax = plt.subplots()\n",
    "ax.plot(x,y)\n",
    "ax.set_xlim(0,400)\n",
    "ax.set_ylim(0,160000)\n",
    "ax.xaxis.set_major_locator(ticker.MultipleLocator(100))\n",
    "ax.xaxis.set_minor_locator(ticker.MultipleLocator(10))"
   ]
  },
  {
   "cell_type": "code",
   "execution_count": 135,
   "metadata": {},
   "outputs": [
    {
     "data": {
      "image/png": "[encoded data removed]",
      "text/plain": [
       "<Figure size 432x288 with 1 Axes>"
      ]
     },
     "metadata": {
      "needs_background": "light"
     },
     "output_type": "display_data"
    }
   ],
   "source": [
    "x = np.linspace(0,2*np.pi,1000)\n",
    "y = np.sin(x)\n",
    "fig, ax = plt.subplots()\n",
    "ax.plot(x,y)\n",
    "#ax.set_xlim(0,400)\n",
    "#ax.set_ylim(0,160000)\n",
    "ax.yaxis.set_major_locator(ticker.MultipleLocator(1/3))\n",
    "ax.yaxis.set_major_formatter(ticker.FuncFormatter(lambda y,_: f'{y:.2f} s'))\n",
    "#ax.xaxis.set_minor_locator(ticker.MultipleLocator(10))"
   ]
  },
  {
   "cell_type": "code",
   "execution_count": null,
   "metadata": {},
   "outputs": [],
   "source": [
    "mdates.YearLocator()\n",
    "mdates.MonthLocator()\n",
    "mdates.DayLocator()\n",
    "mdates.DateFormatter('%Y-%m')"
   ]
  }
 ],
 "metadata": {
  "kernelspec": {
   "display_name": "Python 3",
   "language": "python",
   "name": "python3"
  },
  "language_info": {
   "codemirror_mode": {
    "name": "ipython",
    "version": 3
   },
   "file_extension": ".py",
   "mimetype": "text/x-python",
   "name": "python",
   "nbconvert_exporter": "python",
   "pygments_lexer": "ipython3",
   "version": "3.8.3"
  }
 },
 "nbformat": 4,
 "nbformat_minor": 4
}
