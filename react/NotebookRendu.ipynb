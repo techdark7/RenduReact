{
 "cells": [
  {
   "cell_type": "code",
   "execution_count": 1,
   "metadata": {},
   "outputs": [],
   "source": [
    "import pandas as pd\n",
    "import requests\n",
    "import matplotlib.pyplot as plt"
   ]
  },
  {
   "cell_type": "code",
   "execution_count": 2,
   "metadata": {},
   "outputs": [
    {
     "data": {
      "text/html": [
       "<div>\n",
       "<style scoped>\n",
       "    .dataframe tbody tr th:only-of-type {\n",
       "        vertical-align: middle;\n",
       "    }\n",
       "\n",
       "    .dataframe tbody tr th {\n",
       "        vertical-align: top;\n",
       "    }\n",
       "\n",
       "    .dataframe thead th {\n",
       "        text-align: right;\n",
       "    }\n",
       "</style>\n",
       "<table border=\"1\" class=\"dataframe\">\n",
       "  <thead>\n",
       "    <tr style=\"text-align: right;\">\n",
       "      <th></th>\n",
       "      <th>name</th>\n",
       "      <th>birthdate</th>\n",
       "    </tr>\n",
       "    <tr>\n",
       "      <th>id</th>\n",
       "      <th></th>\n",
       "      <th></th>\n",
       "    </tr>\n",
       "  </thead>\n",
       "  <tbody>\n",
       "    <tr>\n",
       "      <th>273359</th>\n",
       "      <td>Abel Fernandez</td>\n",
       "      <td>1930-01-01</td>\n",
       "    </tr>\n",
       "    <tr>\n",
       "      <th>721031</th>\n",
       "      <td>Alejandro Rey</td>\n",
       "      <td>1930-01-01</td>\n",
       "    </tr>\n",
       "    <tr>\n",
       "      <th>193238</th>\n",
       "      <td>Alfie Curtis</td>\n",
       "      <td>1930-01-01</td>\n",
       "    </tr>\n",
       "    <tr>\n",
       "      <th>339141</th>\n",
       "      <td>Alvin Greenman</td>\n",
       "      <td>1930-01-01</td>\n",
       "    </tr>\n",
       "    <tr>\n",
       "      <th>665708</th>\n",
       "      <td>Angela Paton</td>\n",
       "      <td>1930-01-01</td>\n",
       "    </tr>\n",
       "    <tr>\n",
       "      <th>...</th>\n",
       "      <td>...</td>\n",
       "      <td>...</td>\n",
       "    </tr>\n",
       "    <tr>\n",
       "      <th>888845</th>\n",
       "      <td>Warren Vanders</td>\n",
       "      <td>1930-01-01</td>\n",
       "    </tr>\n",
       "    <tr>\n",
       "      <th>404298</th>\n",
       "      <td>Will Hutchins</td>\n",
       "      <td>1930-01-01</td>\n",
       "    </tr>\n",
       "    <tr>\n",
       "      <th>431499</th>\n",
       "      <td>William Joyce</td>\n",
       "      <td>1930-01-01</td>\n",
       "    </tr>\n",
       "    <tr>\n",
       "      <th>871501</th>\n",
       "      <td>William Traylor</td>\n",
       "      <td>1930-01-01</td>\n",
       "    </tr>\n",
       "    <tr>\n",
       "      <th>1189799</th>\n",
       "      <td>Zvonko Jovcic</td>\n",
       "      <td>1930-01-01</td>\n",
       "    </tr>\n",
       "  </tbody>\n",
       "</table>\n",
       "<p>167 rows × 2 columns</p>\n",
       "</div>"
      ],
      "text/plain": [
       "                    name   birthdate\n",
       "id                                  \n",
       "273359    Abel Fernandez  1930-01-01\n",
       "721031     Alejandro Rey  1930-01-01\n",
       "193238      Alfie Curtis  1930-01-01\n",
       "339141    Alvin Greenman  1930-01-01\n",
       "665708      Angela Paton  1930-01-01\n",
       "...                  ...         ...\n",
       "888845    Warren Vanders  1930-01-01\n",
       "404298     Will Hutchins  1930-01-01\n",
       "431499     William Joyce  1930-01-01\n",
       "871501   William Traylor  1930-01-01\n",
       "1189799    Zvonko Jovcic  1930-01-01\n",
       "\n",
       "[167 rows x 2 columns]"
      ]
     },
     "execution_count": 2,
     "metadata": {},
     "output_type": "execute_result"
    }
   ],
   "source": [
    "year = 1930\n",
    "dfStarsByYear = pd.read_json(f'http://localhost:8000/stars/by_birthyear/{year}')\n",
    "dfStarsByYear.set_index('id', inplace=True)\n",
    "dfStarsByYear"
   ]
  },
  {
   "cell_type": "code",
   "execution_count": 3,
   "metadata": {},
   "outputs": [
    {
     "data": {
      "text/html": [
       "<div>\n",
       "<style scoped>\n",
       "    .dataframe tbody tr th:only-of-type {\n",
       "        vertical-align: middle;\n",
       "    }\n",
       "\n",
       "    .dataframe tbody tr th {\n",
       "        vertical-align: top;\n",
       "    }\n",
       "\n",
       "    .dataframe thead th {\n",
       "        text-align: right;\n",
       "    }\n",
       "</style>\n",
       "<table border=\"1\" class=\"dataframe\">\n",
       "  <thead>\n",
       "    <tr style=\"text-align: right;\">\n",
       "      <th></th>\n",
       "      <th>title</th>\n",
       "      <th>year</th>\n",
       "      <th>duration</th>\n",
       "    </tr>\n",
       "    <tr>\n",
       "      <th>id</th>\n",
       "      <th></th>\n",
       "      <th></th>\n",
       "      <th></th>\n",
       "    </tr>\n",
       "  </thead>\n",
       "  <tbody>\n",
       "    <tr>\n",
       "      <th>8317298</th>\n",
       "      <td>Chanel No. 5: La Star</td>\n",
       "      <td>1990</td>\n",
       "      <td>1.0</td>\n",
       "    </tr>\n",
       "    <tr>\n",
       "      <th>778043</th>\n",
       "      <td>Seeing Stars</td>\n",
       "      <td>1927</td>\n",
       "      <td>NaN</td>\n",
       "    </tr>\n",
       "    <tr>\n",
       "      <th>49793</th>\n",
       "      <td>Star in the Dust</td>\n",
       "      <td>1956</td>\n",
       "      <td>80.0</td>\n",
       "    </tr>\n",
       "    <tr>\n",
       "      <th>76759</th>\n",
       "      <td>Star Wars: Episode IV - A New Hope</td>\n",
       "      <td>1977</td>\n",
       "      <td>121.0</td>\n",
       "    </tr>\n",
       "    <tr>\n",
       "      <th>8933914</th>\n",
       "      <td>Star Wars: Episode IV: A New Hope - Deleted Sc...</td>\n",
       "      <td>2011</td>\n",
       "      <td>8.0</td>\n",
       "    </tr>\n",
       "    <tr>\n",
       "      <th>2527338</th>\n",
       "      <td>Star Wars: Episode IX - The Rise of Skywalker</td>\n",
       "      <td>2019</td>\n",
       "      <td>142.0</td>\n",
       "    </tr>\n",
       "    <tr>\n",
       "      <th>80684</th>\n",
       "      <td>Star Wars: Episode V - The Empire Strikes Back</td>\n",
       "      <td>1980</td>\n",
       "      <td>124.0</td>\n",
       "    </tr>\n",
       "    <tr>\n",
       "      <th>8924990</th>\n",
       "      <td>Star Wars: Episode V - The Empire Strikes Back...</td>\n",
       "      <td>1980</td>\n",
       "      <td>12.0</td>\n",
       "    </tr>\n",
       "    <tr>\n",
       "      <th>86190</th>\n",
       "      <td>Star Wars: Episode VI - Return of the Jedi</td>\n",
       "      <td>1983</td>\n",
       "      <td>131.0</td>\n",
       "    </tr>\n",
       "    <tr>\n",
       "      <th>8925010</th>\n",
       "      <td>Star Wars: Episode VI - Return of the Jedi: De...</td>\n",
       "      <td>1983</td>\n",
       "      <td>9.0</td>\n",
       "    </tr>\n",
       "    <tr>\n",
       "      <th>2488496</th>\n",
       "      <td>Star Wars: Episode VII - The Force Awakens</td>\n",
       "      <td>2015</td>\n",
       "      <td>138.0</td>\n",
       "    </tr>\n",
       "    <tr>\n",
       "      <th>95405</th>\n",
       "      <td>Starry is the Night</td>\n",
       "      <td>1988</td>\n",
       "      <td>94.0</td>\n",
       "    </tr>\n",
       "    <tr>\n",
       "      <th>25830</th>\n",
       "      <td>The Star Packer</td>\n",
       "      <td>1934</td>\n",
       "      <td>53.0</td>\n",
       "    </tr>\n",
       "  </tbody>\n",
       "</table>\n",
       "</div>"
      ],
      "text/plain": [
       "                                                     title  year  duration\n",
       "id                                                                        \n",
       "8317298                              Chanel No. 5: La Star  1990       1.0\n",
       "778043                                        Seeing Stars  1927       NaN\n",
       "49793                                     Star in the Dust  1956      80.0\n",
       "76759                   Star Wars: Episode IV - A New Hope  1977     121.0\n",
       "8933914  Star Wars: Episode IV: A New Hope - Deleted Sc...  2011       8.0\n",
       "2527338      Star Wars: Episode IX - The Rise of Skywalker  2019     142.0\n",
       "80684       Star Wars: Episode V - The Empire Strikes Back  1980     124.0\n",
       "8924990  Star Wars: Episode V - The Empire Strikes Back...  1980      12.0\n",
       "86190           Star Wars: Episode VI - Return of the Jedi  1983     131.0\n",
       "8925010  Star Wars: Episode VI - Return of the Jedi: De...  1983       9.0\n",
       "2488496         Star Wars: Episode VII - The Force Awakens  2015     138.0\n",
       "95405                                  Starry is the Night  1988      94.0\n",
       "25830                                      The Star Packer  1934      53.0"
      ]
     },
     "execution_count": 3,
     "metadata": {},
     "output_type": "execute_result"
    }
   ],
   "source": [
    "t_part = \"Star\"\n",
    "dfMoviesByTitlePart = pd.read_json(f'http://localhost:8000/movies/by_title_part?t={t_part}')\n",
    "dfMoviesByTitlePart.set_index('id', inplace=True)\n",
    "dfMoviesByTitlePart"
   ]
  },
  {
   "cell_type": "code",
   "execution_count": 4,
   "metadata": {},
   "outputs": [
    {
     "name": "stdout",
     "output_type": "stream",
     "text": [
      "                          name   birthdate  movie_count  first_movie  \\\n",
      "id                                                                     \n",
      "78                  John Wayne  1907-05-26          172         1926   \n",
      "1230             Harrison Ford  1884-03-16           86         1915   \n",
      "230         Sylvester Stallone  1946-07-06           73         1969   \n",
      "125               Sean Connery  1930-08-25           73         1954   \n",
      "158                  Tom Hanks  1956-07-09           69         1980   \n",
      "241      Jean-Claude Van Damme  1960-10-18           66         1979   \n",
      "142             Clint Eastwood  1930-05-31           63         1955   \n",
      "148              Harrison Ford  1942-07-13           63         1966   \n",
      "216      Arnold Schwarzenegger  1947-07-30           56         1970   \n",
      "226                 Will Smith  1968-09-25           50         1988   \n",
      "217            Martin Scorsese  1942-11-17           41         1967   \n",
      "33            Alfred Hitchcock  1899-08-13           40         1927   \n",
      "1618           Joaquin Phoenix  1974-10-28           38         1986   \n",
      "4874                Vin Diesel  1967-07-18           38         1990   \n",
      "7419291          Arnold Montey        None           33         1994   \n",
      "280707                Paul Fix  1901-01-01           32         1931   \n",
      "233          Quentin Tarantino  1963-03-27           31         1983   \n",
      "134831           Yakima Canutt  1895-01-01           31         1932   \n",
      "\n",
      "         last_movie  \n",
      "id                   \n",
      "78             1976  \n",
      "1230           1932  \n",
      "230            2019  \n",
      "125            2012  \n",
      "158            2020  \n",
      "241            2019  \n",
      "142            2018  \n",
      "148            2020  \n",
      "216            2019  \n",
      "226            2020  \n",
      "217            2019  \n",
      "33             2020  \n",
      "1618           2020  \n",
      "4874           2020  \n",
      "7419291        2018  \n",
      "280707         1973  \n",
      "233            2019  \n",
      "134831         1959  \n"
     ]
    }
   ],
   "source": [
    "limit = 30\n",
    "response  = requests.get(f'http://localhost:8000/stars/stats_movie_by_actor?minc={limit}')\n",
    "if response.status_code == 200:\n",
    "    data_json = response.json()\n",
    "    data_flatten = [ {**actor_dict, 'movie_count':mc, 'first_movie':fm, 'last_movie':lm} for actor_dict, mc, fm, lm in data_json]\n",
    "    dfStatsActors = pd.DataFrame(data_flatten)\n",
    "    dfStatsActors.set_index('id', inplace=True)\n",
    "    print(dfStatsActors)\n",
    "else:\n",
    "    print('Error',response.status_code,response.json(), sep=', ')"
   ]
  },
  {
   "cell_type": "code",
   "execution_count": 5,
   "metadata": {},
   "outputs": [
    {
     "data": {
      "text/plain": [
       "<BarContainer object of 195 artists>"
      ]
     },
     "execution_count": 5,
     "metadata": {},
     "output_type": "execute_result"
    },
    {
     "data": {
      "image/png": "[encoded data removed]",
      "text/plain": [
       "<Figure size 1440x720 with 2 Axes>"
      ]
     },
     "metadata": {
      "needs_background": "light"
     },
     "output_type": "display_data"
    }
   ],
   "source": [
    "dfMoviesCountByYear = pd.read_json('http://localhost:8000/movies/count_by_year')\n",
    "dfBirthyearCountByYear = pd.read_json('http://localhost:8000/stars/count_by_birthyear')\n",
    "years = [int(x[:4]) for x in dfBirthyearCountByYear[0].values[1:]]\n",
    "\n",
    "fig, (ax1, ax2) = plt.subplots(1,2,figsize=(20,10))\n",
    "\n",
    "ax1.set_xlabel(\"Year\")\n",
    "ax1.set_ylabel(\"Number of movies\")\n",
    "ax1.set_title('Movies by year')\n",
    "ax1.bar(dfMoviesCountByYear[0].values, dfMoviesCountByYear[1].values, color = 'blue')\n",
    "\n",
    "ax2.set_xlabel('Year')\n",
    "ax2.set_ylabel('Number of birthyear')\n",
    "ax2.set_title('Actors by birthyear')\n",
    "ax2.bar(years, dfBirthyearCountByYear[1].values[1:],  color = 'red')\n"
   ]
  },
  {
   "cell_type": "code",
   "execution_count": 6,
   "metadata": {},
   "outputs": [
    {
     "data": {
      "text/plain": [
       "<matplotlib.legend.Legend at 0x7f410b5f2a60>"
      ]
     },
     "execution_count": 6,
     "metadata": {},
     "output_type": "execute_result"
    },
    {
     "data": {
      "image/png": "[encoded data removed]",
      "text/plain": [
       "<Figure size 1440x1440 with 2 Axes>"
      ]
     },
     "metadata": {
      "needs_background": "light"
     },
     "output_type": "display_data"
    }
   ],
   "source": [
    "dfsa = dfStatsActors[:10]\n",
    "fig, (ax1, ax2) = plt.subplots(2, figsize = (20, 20))\n",
    "\n",
    "ax1.bar(dfsa['name'].values, dfsa['movie_count'].values)\n",
    "ax1.set_ylabel('Number of roles')\n",
    "ax1.set_title('Number of roles per Actors')\n",
    "\n",
    "ax2.bar(dfsa['name'].values, dfsa['last_movie'].values, label='Last role')\n",
    "ax2.bar(dfsa['name'].values, dfsa['first_movie'].values, label='First role')\n",
    "ax2.set_ylabel('Year')\n",
    "ax2.set_title('Year first/last role per Actors ')\n",
    "ax2.set_ylim(1900,2030)\n",
    "ax2.legend()"
   ]
  }
 ],
 "metadata": {
  "kernelspec": {
   "display_name": "Python 3",
   "language": "python",
   "name": "python3"
  },
  "language_info": {
   "codemirror_mode": {
    "name": "ipython",
    "version": 3
   },
   "file_extension": ".py",
   "mimetype": "text/x-python",
   "name": "python",
   "nbconvert_exporter": "python",
   "pygments_lexer": "ipython3",
   "version": "3.8.3"
  }
 },
 "nbformat": 4,
 "nbformat_minor": 4
}
